{
 "cells": [
  {
   "cell_type": "code",
   "execution_count": 2,
   "id": "be7019d8",
   "metadata": {},
   "outputs": [],
   "source": [
    "import scipy.special,scipy.misc\n",
    "import numpy\n",
    "import matplotlib.pyplot\n",
    "%matplotlib inline\n",
    "\n",
    "class Neurol:\n",
    "    def __init__(self,input_nodes,hidden_nodes,output_nodes,learningrate):\n",
    "        self.i_n=input_nodes\n",
    "        self.h_n=hidden_nodes\n",
    "        self.o_n=output_nodes\n",
    "        \n",
    "        self.wih = numpy.random.normal(0.0, pow(self.i_n,-0.5),(self.h_n,self.i_n))\n",
    "        self.who=numpy.random.normal(0.0,pow(self.h_n,-0.5 ),(self.o_n,self.h_n))\n",
    "        \n",
    "        self.l_r= learningrate\n",
    "        \n",
    "        self.activate=lambda x: scipy.special.expit(x)\n",
    "        \n",
    "    \n",
    "    \n",
    "    def train(self,inputs_l,targets_l):\n",
    "        ins = numpy.array(inputs_l, ndmin=2).T\n",
    "        tgs = numpy.array(targets_l, ndmin=2).T\n",
    "        \n",
    "        \n",
    "        h_ins = numpy.dot(self.wih, ins)\n",
    "        h_ots = self.activate(h_ins)\n",
    "        \n",
    "        \n",
    "        final_ins = numpy.dot(self.who, h_ots)\n",
    "        final_ots = self.activate(final_ins)\n",
    "        \n",
    "        \n",
    "        ots_errs = tgs - final_ots\n",
    "        h_errs = numpy.dot(self.who.T, ots_errs) \n",
    "        \n",
    "        \n",
    "        self.who += self.l_r * numpy.dot((ots_errs * final_ots * (1.0 - final_ots)), numpy.transpose(h_ots))\n",
    "        self.wih += self.l_r * numpy.dot((h_errs * h_ots * (1.0 - h_ots)), numpy.transpose(ins))\n",
    "        \n",
    "        \n",
    "        \n",
    "    \n",
    "    \n",
    "    \n",
    "    def query(self,inputs_l):\n",
    "        ins=numpy.array(inputs_l,ndmin=2).T\n",
    "        h_ins=numpy.dot(self.wih,ins)\n",
    "        h_ots=self.activate(h_ins)\n",
    "        final_ins=numpy.dot(self.who,h_ots)\n",
    "        final_ots=self.activate(final_ins)\n",
    "        \n",
    "        return final_ots\n",
    "        \n",
    "    \n",
    "    \n",
    "    \n",
    "    \n",
    "input_nodes=784\n",
    "hidden_nodes=100\n",
    "output_nodes=10\n",
    "learningrate=0.1\n",
    "\n",
    "n=Neurol(input_nodes,hidden_nodes,output_nodes,learningrate)\n",
    "\n",
    "training_data_file=open('fashion-mnist_train.csv','r')\n",
    "training_data_list=training_data_file.readlines()\n",
    "training_data_file.close()\n",
    "epochs=3\n",
    "\n",
    "for i in range(epochs):   \n",
    "    for record in training_data_list[1:]:\n",
    "        all_values=record.split(',')\n",
    "        inputs=(numpy.asfarray(all_values[1:])/255.0*0.99)+0.01\n",
    "        targets=numpy.zeros(output_nodes)+0.01\n",
    "        targets[int(all_values[0])]=0.99\n",
    "        n.train(inputs,targets)\n",
    "        pass\n",
    "    pass\n",
    "    "
   ]
  },
  {
   "cell_type": "code",
   "execution_count": 3,
   "id": "7003652d",
   "metadata": {},
   "outputs": [
    {
     "name": "stdout",
     "output_type": "stream",
     "text": [
      "0\n"
     ]
    }
   ],
   "source": [
    "test_data_file=open('fashion-mnist_test.csv','r')\n",
    "test_data_list=test_data_file.readlines()\n",
    "test_data_file.close()\n",
    "all_values=test_data_list[1].split(',')\n",
    "print(all_values[1])"
   ]
  },
  {
   "cell_type": "code",
   "execution_count": 4,
   "id": "1b0f2372",
   "metadata": {},
   "outputs": [
    {
     "data": {
      "text/plain": [
       "<matplotlib.image.AxesImage at 0x1e7912315e0>"
      ]
     },
     "execution_count": 4,
     "metadata": {},
     "output_type": "execute_result"
    },
    {
     "data": {
      "image/png": "[encoded data removed]",
      "text/plain": [
       "<Figure size 432x288 with 1 Axes>"
      ]
     },
     "metadata": {
      "needs_background": "light"
     },
     "output_type": "display_data"
    }
   ],
   "source": [
    "image_array=numpy.asfarray(all_values[1:]).reshape((28,28))\n",
    "matplotlib.pyplot.imshow(image_array,cmap='Greys',interpolation='None')\n"
   ]
  },
  {
   "cell_type": "code",
   "execution_count": 5,
   "id": "2182e836",
   "metadata": {},
   "outputs": [
    {
     "name": "stdout",
     "output_type": "stream",
     "text": [
      "83.64163583641636\n"
     ]
    }
   ],
   "source": [
    "scorecard=[]\n",
    "\n",
    "for record in test_data_list[1:]:\n",
    "    all_values=record.split(',')\n",
    "    correct_label=int(all_values[0])\n",
    "    \n",
    "    inputs=(numpy.asfarray(all_values[1:])/255.0*0.99)+0.01\n",
    "    outputs=n.query(inputs)\n",
    "    label=numpy.argmax(outputs)\n",
    "    \n",
    "    if label==correct_label:\n",
    "        scorecard.append(1)\n",
    "    else:\n",
    "        scorecard.append(0)\n",
    "        pass\n",
    "    \n",
    "    pass\n",
    "t=len(test_data_list)\n",
    "k=sum(scorecard)\n",
    "\n",
    "effect=(k/t)*100\n",
    "\n",
    "print(effect)\n",
    "\n",
    "\n",
    "\n"
   ]
  },
  {
   "cell_type": "code",
   "execution_count": 21,
   "id": "d6a4241c",
   "metadata": {},
   "outputs": [
    {
     "name": "stdout",
     "output_type": "stream",
     "text": [
      "[[3.24307458e-03]\n",
      " [1.38164890e-03]\n",
      " [7.98522865e-03]\n",
      " [4.35531592e-02]\n",
      " [4.92005104e-03]\n",
      " [3.00225039e-01]\n",
      " [1.24886206e-02]\n",
      " [9.78467268e-02]\n",
      " [3.23612052e-01]\n",
      " [5.33035497e-05]]\n",
      "сумка\n"
     ]
    },
    {
     "data": {
      "text/plain": [
       "<matplotlib.image.AxesImage at 0x1e7935f2c10>"
      ]
     },
     "execution_count": 21,
     "metadata": {},
     "output_type": "execute_result"
    },
    {
     "data": {
      "image/png": "[encoded data removed]",
      "text/plain": [
       "<Figure size 432x288 with 1 Axes>"
      ]
     },
     "metadata": {
      "needs_background": "light"
     },
     "output_type": "display_data"
    }
   ],
   "source": [
    "from PIL import Image\n",
    "ans=['футболка','брюки','свитер','платье','пальто','туфли','рубашка','кросовки','сумка','ботинки']\n",
    "\n",
    "img_arr = Image.open('test7.jpg')\n",
    "img_arr = img_arr.convert('L') # делаем черно-белым\n",
    "img_arr = numpy.asarray(img_arr)\n",
    "\n",
    "\n",
    "img_data=255.0-img_arr.reshape(784)\n",
    "\n",
    "\n",
    "img_data=(numpy.asfarray(img_data)/255.0*0.99)+0.01\n",
    "\n",
    "\n",
    "output=n.query(img_data)\n",
    "print(output)\n",
    "print(ans[numpy.argmax(output)])\n",
    "\n",
    "img_data=numpy.asfarray(img_data).reshape((28,28))\n",
    "matplotlib.pyplot.imshow(img_data,cmap='Greys',interpolation='None')"
   ]
  },
  {
   "cell_type": "code",
   "execution_count": 16,
   "id": "6cd6881f",
   "metadata": {},
   "outputs": [
    {
     "name": "stdout",
     "output_type": "stream",
     "text": [
      "[[4.61474608e-03]\n",
      " [1.85399462e-02]\n",
      " [6.03380596e-04]\n",
      " [2.73486099e-03]\n",
      " [1.72746906e-03]\n",
      " [2.07976138e-02]\n",
      " [3.69210127e-03]\n",
      " [9.57745036e-01]\n",
      " [3.25991114e-02]\n",
      " [3.90327722e-03]]\n",
      "кросовки\n"
     ]
    },
    {
     "data": {
      "image/png": "[encoded data removed]",
      "text/plain": [
       "<Figure size 432x288 with 1 Axes>"
      ]
     },
     "metadata": {
      "needs_background": "light"
     },
     "output_type": "display_data"
    }
   ],
   "source": [
    "test_data_file=open('fashion-mnist_test.csv','r')\n",
    "test_data_list=test_data_file.readlines()\n",
    "test_data_file.close()\n",
    "\n",
    "all_values=test_data_list[179].split(',')\n",
    "image_array=numpy.asfarray(all_values[1:]).reshape((28,28))\n",
    "matplotlib.pyplot.imshow(image_array,cmap='Greys',interpolation='None')\n",
    "inputs=(numpy.asfarray(all_values[1:])/255.0*0.99)+0.01\n",
    "\n",
    "output=n.query(inputs)\n",
    "print(output)\n",
    "print(ans[numpy.argmax(output)])"
   ]
  },
  {
   "cell_type": "code",
   "execution_count": null,
   "id": "e2620e4b",
   "metadata": {},
   "outputs": [],
   "source": []
  },
  {
   "cell_type": "code",
   "execution_count": null,
   "id": "1c965329",
   "metadata": {},
   "outputs": [],
   "source": []
  }
 ],
 "metadata": {
  "kernelspec": {
   "display_name": "Python 3",
   "language": "python",
   "name": "python3"
  },
  "language_info": {
   "codemirror_mode": {
    "name": "ipython",
    "version": 3
   },
   "file_extension": ".py",
   "mimetype": "text/x-python",
   "name": "python",
   "nbconvert_exporter": "python",
   "pygments_lexer": "ipython3",
   "version": "3.8.8"
  }
 },
 "nbformat": 4,
 "nbformat_minor": 5
}
